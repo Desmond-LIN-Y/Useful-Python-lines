Convert strings to numbers
df['Fee'] = df['Fee'].str.replace('[^0-9]', '', regex=True).astype('int64')
